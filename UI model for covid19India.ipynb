{
 "cells": [
  {
   "cell_type": "code",
   "execution_count": 1,
   "metadata": {},
   "outputs": [
    {
     "name": "stderr",
     "output_type": "stream",
     "text": [
      "C:\\Users\\Sony\\Anaconda3\\lib\\site-packages\\sklearn\\ensemble\\weight_boosting.py:29: DeprecationWarning: numpy.core.umath_tests is an internal NumPy module and should not be imported. It will be removed in a future NumPy release.\n",
      "  from numpy.core.umath_tests import inner1d\n"
     ]
    }
   ],
   "source": [
    "import pandas as pd\n",
    "import numpy as np\n",
    "from sklearn.preprocessing import LabelEncoder\n",
    "from sklearn.model_selection import train_test_split\n",
    "from sklearn.metrics import accuracy_score\n",
    "from sklearn.metrics import confusion_matrix,classification_report\n",
    "from sklearn import preprocessing\n",
    "from sklearn.metrics import classification_report,accuracy_score,confusion_matrix\n",
    "from sklearn import metrics\n",
    "from sklearn import tree\n",
    "from sklearn.ensemble import ExtraTreesRegressor"
   ]
  },
  {
   "cell_type": "code",
   "execution_count": 2,
   "metadata": {},
   "outputs": [],
   "source": [
    "#Load the Data & statistical analysis\n",
    "def load_data():\n",
    "    train=pd.read_csv('Covid19India2.csv',index_col=0)\n",
    "    \n",
    "    print(train.shape)\n",
    "    print(train.info())\n",
    "    print(train.describe().T)\n",
    "    return train"
   ]
  },
  {
   "cell_type": "code",
   "execution_count": 3,
   "metadata": {},
   "outputs": [],
   "source": [
    " def feature_engg(train):\n",
    "    #Filling Missing Values\n",
    "    print(train.isnull().sum())   \n",
    "    \n",
    "    train['Gender']=train['Gender'].fillna('No gender')\n",
    "    train['Gender'].isnull().sum()\n",
    "\n",
    "    train['Detected_City']=train['Detected_City'].fillna('Notmentioned')\n",
    "    train['Detected_City'].isnull().sum()\n",
    "\n",
    "    train['Detected_District']=train['Detected_District'].fillna('Notmentioned')\n",
    "    train['Detected_District'].isnull().sum()\n",
    "\n",
    "    train['Detected_State']=train['Detected_State'].fillna('Not')\n",
    "    train['Detected_State'].isnull().sum()\n",
    "\n",
    "    train['Current_Status']=train['Current_Status'].fillna('No')\n",
    "    train['Current_Status'].isnull().sum()\n",
    "\n",
    "\n",
    "    train['Age_Bracket']=train['Age_Bracket'].fillna(0)\n",
    "\n",
    "    train['Num_Cases'] = train['Num_Cases'].fillna(0)\n",
    "    train['Day'] = train['Day'].fillna(0)\n",
    "\n",
    "    train['Month'] = train['Month'].fillna(0)\n",
    "    train['Year'] = train['Year'].fillna(0)\n",
    "\n",
    "    train['No'] = train['No'].fillna(0)\n",
    "\n",
    "#Categorical Features\n",
    "    cat_features=train.select_dtypes(include='object').columns\n",
    "    print(\"Categorical Features:\\n\",cat_features,\"\\n No of categorical features:\",len(cat_features))\n",
    "    #Converting Categorical-Numeric features using Label Encoding\n",
    "    le=LabelEncoder()\n",
    "    for feature in cat_features:\n",
    "        train[feature]=le.fit_transform(train[feature])\n",
    "    \n",
    "    return train"
   ]
  },
  {
   "cell_type": "markdown",
   "metadata": {},
   "source": [
    "# Model building"
   ]
  },
  {
   "cell_type": "code",
   "execution_count": 4,
   "metadata": {},
   "outputs": [],
   "source": [
    "def construct_model(train):\n",
    "    y = train[\"Current_Status\"]\n",
    "    x = train.drop('Current_Status',axis=1)\n",
    "    x_train,x_test,y_train,y_test=train_test_split(x,y,test_size=0.2,random_state=0)\n",
    "    print(x_train.shape,y_train.shape,x_test.shape,y_test.shape)\n",
    "    \n",
    "          \n",
    "    dtree = tree.DecisionTreeClassifier(random_state=6)\n",
    "    dtree.fit(x_train, y_train)\n",
    "    y_pred = dtree.predict(x_test)\n",
    "    print (y_pred)\n",
    "    print (\"Decision Tree Accuracy: \",metrics.accuracy_score(y_test, y_pred))\n",
    "    print(confusion_matrix(y_test,y_pred))\n",
    "    print(classification_report(y_test,y_pred))\n"
   ]
  },
  {
   "cell_type": "code",
   "execution_count": 5,
   "metadata": {},
   "outputs": [
    {
     "name": "stdout",
     "output_type": "stream",
     "text": [
      "(259824, 11)\n",
      "<class 'pandas.core.frame.DataFrame'>\n",
      "Int64Index: 259824 entries, 0 to 259823\n",
      "Data columns (total 11 columns):\n",
      "No                   259824 non-null int64\n",
      "Num_Cases            259821 non-null float64\n",
      "Age_Bracket          122699 non-null float64\n",
      "Gender               125723 non-null object\n",
      "Detected_City        14809 non-null object\n",
      "Detected_District    250231 non-null object\n",
      "Detected_State       259815 non-null object\n",
      "Current_Status       259822 non-null object\n",
      "Day                  259824 non-null int64\n",
      "Month                259824 non-null int64\n",
      "Year                 259824 non-null int64\n",
      "dtypes: float64(2), int64(4), object(5)\n",
      "memory usage: 23.8+ MB\n",
      "None\n",
      "                count          mean          std     min     25%     50%  \\\n",
      "No           259824.0  10493.953707  6404.413394     0.0  4996.0  9993.0   \n",
      "Num_Cases    259821.0      9.871612   139.241378 -6368.0     1.0     1.0   \n",
      "Age_Bracket  122699.0     38.264442    16.876176     0.0    26.0    36.0   \n",
      "Day          259824.0     10.615859     9.129598     1.0     4.0     6.0   \n",
      "Month        259824.0      6.126501     1.078810     1.0     5.0     7.0   \n",
      "Year         259824.0   2020.000000     0.000000  2020.0  2020.0  2020.0   \n",
      "\n",
      "                 75%      max  \n",
      "No           15820.0  23422.0  \n",
      "Num_Cases        1.0   7725.0  \n",
      "Age_Bracket     50.0    100.0  \n",
      "Day             18.0     31.0  \n",
      "Month            7.0      7.0  \n",
      "Year          2020.0   2020.0  \n"
     ]
    },
    {
     "data": {
      "text/html": [
       "<div>\n",
       "<style scoped>\n",
       "    .dataframe tbody tr th:only-of-type {\n",
       "        vertical-align: middle;\n",
       "    }\n",
       "\n",
       "    .dataframe tbody tr th {\n",
       "        vertical-align: top;\n",
       "    }\n",
       "\n",
       "    .dataframe thead th {\n",
       "        text-align: right;\n",
       "    }\n",
       "</style>\n",
       "<table border=\"1\" class=\"dataframe\">\n",
       "  <thead>\n",
       "    <tr style=\"text-align: right;\">\n",
       "      <th></th>\n",
       "      <th>No</th>\n",
       "      <th>Num_Cases</th>\n",
       "      <th>Age_Bracket</th>\n",
       "      <th>Gender</th>\n",
       "      <th>Detected_City</th>\n",
       "      <th>Detected_District</th>\n",
       "      <th>Detected_State</th>\n",
       "      <th>Current_Status</th>\n",
       "      <th>Day</th>\n",
       "      <th>Month</th>\n",
       "      <th>Year</th>\n",
       "    </tr>\n",
       "  </thead>\n",
       "  <tbody>\n",
       "    <tr>\n",
       "      <th>0</th>\n",
       "      <td>0</td>\n",
       "      <td>1.0</td>\n",
       "      <td>20.0</td>\n",
       "      <td>F</td>\n",
       "      <td>Thrissur</td>\n",
       "      <td>Thrissur</td>\n",
       "      <td>Kerala</td>\n",
       "      <td>Recovered</td>\n",
       "      <td>30</td>\n",
       "      <td>1</td>\n",
       "      <td>2020</td>\n",
       "    </tr>\n",
       "    <tr>\n",
       "      <th>1</th>\n",
       "      <td>1</td>\n",
       "      <td>1.0</td>\n",
       "      <td>NaN</td>\n",
       "      <td>NaN</td>\n",
       "      <td>Alappuzha</td>\n",
       "      <td>Alappuzha</td>\n",
       "      <td>Kerala</td>\n",
       "      <td>Recovered</td>\n",
       "      <td>2</td>\n",
       "      <td>2</td>\n",
       "      <td>2020</td>\n",
       "    </tr>\n",
       "    <tr>\n",
       "      <th>2</th>\n",
       "      <td>2</td>\n",
       "      <td>1.0</td>\n",
       "      <td>NaN</td>\n",
       "      <td>NaN</td>\n",
       "      <td>Kasaragod</td>\n",
       "      <td>Kasaragod</td>\n",
       "      <td>Kerala</td>\n",
       "      <td>Recovered</td>\n",
       "      <td>3</td>\n",
       "      <td>2</td>\n",
       "      <td>2020</td>\n",
       "    </tr>\n",
       "    <tr>\n",
       "      <th>3</th>\n",
       "      <td>3</td>\n",
       "      <td>1.0</td>\n",
       "      <td>45.0</td>\n",
       "      <td>M</td>\n",
       "      <td>East Delhi (Mayur Vihar)</td>\n",
       "      <td>East Delhi</td>\n",
       "      <td>Delhi</td>\n",
       "      <td>Recovered</td>\n",
       "      <td>2</td>\n",
       "      <td>3</td>\n",
       "      <td>2020</td>\n",
       "    </tr>\n",
       "    <tr>\n",
       "      <th>4</th>\n",
       "      <td>4</td>\n",
       "      <td>1.0</td>\n",
       "      <td>24.0</td>\n",
       "      <td>M</td>\n",
       "      <td>Hyderabad</td>\n",
       "      <td>Hyderabad</td>\n",
       "      <td>Telangana</td>\n",
       "      <td>Recovered</td>\n",
       "      <td>2</td>\n",
       "      <td>3</td>\n",
       "      <td>2020</td>\n",
       "    </tr>\n",
       "  </tbody>\n",
       "</table>\n",
       "</div>"
      ],
      "text/plain": [
       "   No  Num_Cases  Age_Bracket Gender             Detected_City  \\\n",
       "0   0        1.0         20.0      F                  Thrissur   \n",
       "1   1        1.0          NaN    NaN                 Alappuzha   \n",
       "2   2        1.0          NaN    NaN                 Kasaragod   \n",
       "3   3        1.0         45.0      M  East Delhi (Mayur Vihar)   \n",
       "4   4        1.0         24.0      M                 Hyderabad   \n",
       "\n",
       "  Detected_District Detected_State Current_Status  Day  Month  Year  \n",
       "0          Thrissur         Kerala      Recovered   30      1  2020  \n",
       "1         Alappuzha         Kerala      Recovered    2      2  2020  \n",
       "2         Kasaragod         Kerala      Recovered    3      2  2020  \n",
       "3        East Delhi          Delhi      Recovered    2      3  2020  \n",
       "4         Hyderabad      Telangana      Recovered    2      3  2020  "
      ]
     },
     "execution_count": 5,
     "metadata": {},
     "output_type": "execute_result"
    }
   ],
   "source": [
    "\n",
    "df=load_data()\n",
    "df.head()"
   ]
  },
  {
   "cell_type": "code",
   "execution_count": 6,
   "metadata": {},
   "outputs": [
    {
     "name": "stdout",
     "output_type": "stream",
     "text": [
      "(259824, 11)\n",
      "<class 'pandas.core.frame.DataFrame'>\n",
      "Int64Index: 259824 entries, 0 to 259823\n",
      "Data columns (total 11 columns):\n",
      "No                   259824 non-null int64\n",
      "Num_Cases            259821 non-null float64\n",
      "Age_Bracket          122699 non-null float64\n",
      "Gender               125723 non-null object\n",
      "Detected_City        14809 non-null object\n",
      "Detected_District    250231 non-null object\n",
      "Detected_State       259815 non-null object\n",
      "Current_Status       259822 non-null object\n",
      "Day                  259824 non-null int64\n",
      "Month                259824 non-null int64\n",
      "Year                 259824 non-null int64\n",
      "dtypes: float64(2), int64(4), object(5)\n",
      "memory usage: 23.8+ MB\n",
      "None\n",
      "                count          mean          std     min     25%     50%  \\\n",
      "No           259824.0  10493.953707  6404.413394     0.0  4996.0  9993.0   \n",
      "Num_Cases    259821.0      9.871612   139.241378 -6368.0     1.0     1.0   \n",
      "Age_Bracket  122699.0     38.264442    16.876176     0.0    26.0    36.0   \n",
      "Day          259824.0     10.615859     9.129598     1.0     4.0     6.0   \n",
      "Month        259824.0      6.126501     1.078810     1.0     5.0     7.0   \n",
      "Year         259824.0   2020.000000     0.000000  2020.0  2020.0  2020.0   \n",
      "\n",
      "                 75%      max  \n",
      "No           15820.0  23422.0  \n",
      "Num_Cases        1.0   7725.0  \n",
      "Age_Bracket     50.0    100.0  \n",
      "Day             18.0     31.0  \n",
      "Month            7.0      7.0  \n",
      "Year          2020.0   2020.0  \n",
      "No                        0\n",
      "Num_Cases                 3\n",
      "Age_Bracket          137125\n",
      "Gender               134101\n",
      "Detected_City        245015\n",
      "Detected_District      9593\n",
      "Detected_State            9\n",
      "Current_Status            2\n",
      "Day                       0\n",
      "Month                     0\n",
      "Year                      0\n",
      "dtype: int64\n",
      "Categorical Features:\n",
      " Index(['Gender', 'Detected_City', 'Detected_District', 'Detected_State',\n",
      "       'Current_Status'],\n",
      "      dtype='object') \n",
      " No of categorical features: 5\n"
     ]
    }
   ],
   "source": [
    "df=load_data()\n",
    "df=feature_engg(df)"
   ]
  },
  {
   "cell_type": "code",
   "execution_count": 7,
   "metadata": {},
   "outputs": [
    {
     "data": {
      "text/plain": [
       "array([0.18421721, 0.11853055, 0.03050429, 0.22173494, 0.00153282,\n",
       "       0.09634214, 0.18600238, 0.05231071, 0.10882497, 0.        ])"
      ]
     },
     "execution_count": 7,
     "metadata": {},
     "output_type": "execute_result"
    }
   ],
   "source": [
    "\n",
    "#To check feature importances\n",
    "y = df[\"Current_Status\"]\n",
    "x = df.drop('Current_Status',axis=1)\n",
    "model=ExtraTreesRegressor()\n",
    "model.fit(x,y)\n",
    "model.feature_importances_"
   ]
  },
  {
   "cell_type": "code",
   "execution_count": 9,
   "metadata": {},
   "outputs": [
    {
     "data": {
      "text/plain": [
       "<matplotlib.axes._subplots.AxesSubplot at 0x15059b38>"
      ]
     },
     "execution_count": 9,
     "metadata": {},
     "output_type": "execute_result"
    },
    {
     "data": {
      "image/png": "[encoded data removed]",
      "text/plain": [
       "<Figure size 432x288 with 1 Axes>"
      ]
     },
     "metadata": {},
     "output_type": "display_data"
    }
   ],
   "source": [
    "\n",
    "df_feat=pd.Series(model.feature_importances_,index=x.columns)\n",
    "df_feat.nlargest(5).plot(kind='barh')"
   ]
  },
  {
   "cell_type": "code",
   "execution_count": 10,
   "metadata": {},
   "outputs": [
    {
     "name": "stdout",
     "output_type": "stream",
     "text": [
      "(207859, 10) (207859,) (51965, 10) (51965,)\n",
      "[1 1 1 ... 1 1 1]\n",
      "Decision Tree Accuracy:  0.9535456557298182\n",
      "[[ 1572   219     1     2     0     1   169]\n",
      " [  218 37481     0     4     0     1   801]\n",
      " [    0     0     0     0     0     0     0]\n",
      " [    2     4     0     7     0     0     3]\n",
      " [    1     0     0     0     4     0     0]\n",
      " [    0     0     0     0     0     0     0]\n",
      " [  119   867     0     2     0     0 10487]]\n",
      "             precision    recall  f1-score   support\n",
      "\n",
      "          0       0.82      0.80      0.81      1964\n",
      "          1       0.97      0.97      0.97     38505\n",
      "          2       0.00      0.00      0.00         0\n",
      "          3       0.47      0.44      0.45        16\n",
      "          4       1.00      0.80      0.89         5\n",
      "          5       0.00      0.00      0.00         0\n",
      "          6       0.92      0.91      0.91     11475\n",
      "\n",
      "avg / total       0.95      0.95      0.95     51965\n",
      "\n"
     ]
    },
    {
     "name": "stderr",
     "output_type": "stream",
     "text": [
      "C:\\Users\\Sony\\Anaconda3\\lib\\site-packages\\sklearn\\metrics\\classification.py:1137: UndefinedMetricWarning: Recall and F-score are ill-defined and being set to 0.0 in labels with no true samples.\n",
      "  'recall', 'true', average, warn_for)\n"
     ]
    }
   ],
   "source": [
    "lr=construct_model(df)"
   ]
  },
  {
   "cell_type": "code",
   "execution_count": 12,
   "metadata": {},
   "outputs": [],
   "source": [
    "import pickle\n",
    "file=open(\"covid19.pkl\",\"wb\")\n",
    "pickle.dump(lr,file)"
   ]
  },
  {
   "cell_type": "code",
   "execution_count": null,
   "metadata": {},
   "outputs": [],
   "source": []
  }
 ],
 "metadata": {
  "kernelspec": {
   "display_name": "Python 3",
   "language": "python",
   "name": "python3"
  },
  "language_info": {
   "codemirror_mode": {
    "name": "ipython",
    "version": 3
   },
   "file_extension": ".py",
   "mimetype": "text/x-python",
   "name": "python",
   "nbconvert_exporter": "python",
   "pygments_lexer": "ipython3",
   "version": "3.6.5"
  }
 },
 "nbformat": 4,
 "nbformat_minor": 2
}
